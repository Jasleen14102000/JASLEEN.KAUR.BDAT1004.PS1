{
 "cells": [
  {
   "cell_type": "markdown",
   "id": "77cdd9eb",
   "metadata": {},
   "source": [
    "##  Question 1:"
   ]
  },
  {
   "cell_type": "code",
   "execution_count": 4,
   "id": "1a011d5c",
   "metadata": {
    "scrolled": true
   },
   "outputs": [
    {
     "data": {
      "text/plain": [
       "6"
      ]
     },
     "execution_count": 4,
     "metadata": {},
     "output_type": "execute_result"
    }
   ],
   "source": [
    "a=0\n",
    "def b():\n",
    "    global a\n",
    "    a=c(a)\n",
    "def c(a):\n",
    "        return a+2\n",
    "b()\n",
    "b()\n",
    "b()\n",
    "a\n"
   ]
  },
  {
   "cell_type": "markdown",
   "id": "206e743a",
   "metadata": {},
   "source": [
    "Each time the function b() is invoke,the value of global a is return with the increment of 2 in nesting of function c() and after the last called the final value of a will be 6."
   ]
  },
  {
   "cell_type": "markdown",
   "id": "a40d1fb3",
   "metadata": {},
   "source": [
    "## Question 2:"
   ]
  },
  {
   "cell_type": "code",
   "execution_count": 1,
   "id": "5a6b4a64",
   "metadata": {
    "collapsed": true
   },
   "outputs": [
    {
     "name": "stdout",
     "output_type": "stream",
     "text": [
      "File  idterm.py  not found\n"
     ]
    }
   ],
   "source": [
    "import os\n",
    "def fileLength(fname):\n",
    "    try:\n",
    "        info = os.stat(fname)\n",
    "        print(info.st_size)\n",
    "    except IOError:\n",
    "        print(\"File \", str(fname) ,\" not found\")\n",
    "        \n",
    "fileLength('idterm.py')        \n"
   ]
  },
  {
   "cell_type": "markdown",
   "id": "ef276008",
   "metadata": {},
   "source": [
    "## Question 3:"
   ]
  },
  {
   "cell_type": "code",
   "execution_count": 2,
   "id": "64a2b2cc",
   "metadata": {},
   "outputs": [],
   "source": [
    "class Marsupial:\n",
    "    def __init__(self,x,y):\n",
    "        self.list1 = []\n",
    "        self.dx = x\n",
    "        self.dx = y\n",
    "        \n",
    "    def put_in_pouch(self, item):\n",
    "        return self.list1.append(item)\n",
    "    \n",
    "    def pouch_contents(self):\n",
    "        print(self.list1)\n",
    "        \n",
    "\n",
    "\n",
    "    "
   ]
  },
  {
   "cell_type": "code",
   "execution_count": 3,
   "id": "7e5ea33d",
   "metadata": {},
   "outputs": [
    {
     "name": "stdout",
     "output_type": "stream",
     "text": [
      "['doll', 'firetruck', 'kitten']\n"
     ]
    }
   ],
   "source": [
    "M = Marsupial(0,0)\n",
    "M.put_in_pouch('doll')\n",
    "M.put_in_pouch('firetruck')\n",
    "M.put_in_pouch('kitten')\n",
    "M.pouch_contents()"
   ]
  },
  {
   "cell_type": "markdown",
   "id": "21cab17b",
   "metadata": {},
   "source": [
    "## Question 4:"
   ]
  },
  {
   "cell_type": "code",
   "execution_count": 20,
   "id": "23b5cb6e",
   "metadata": {},
   "outputs": [
    {
     "name": "stdout",
     "output_type": "stream",
     "text": [
      "10 5 16 8 4 2 1\n"
     ]
    }
   ],
   "source": [
    "def Collatz(x):\n",
    "    while x != 1:\n",
    "        print(x, end = ' ')\n",
    "        # if x is odd\n",
    "        if x % 2 !=0:\n",
    "            x = 3 * x + 1\n",
    "            \n",
    "         # if x is even\n",
    "        else:\n",
    "            x = x // 2\n",
    "    # print 1 at the end\n",
    "    print(x)\n",
    "# Driver code\n",
    "Collatz(10)"
   ]
  },
  {
   "cell_type": "code",
   "execution_count": null,
   "id": "d7352036",
   "metadata": {},
   "outputs": [],
   "source": [
    "## Question 5:"
   ]
  },
  {
   "cell_type": "code",
   "execution_count": 5,
   "id": "f6d07560",
   "metadata": {},
   "outputs": [],
   "source": [
    "def binary(n):\n",
    "   if n > 1:\n",
    "      binary(n//2)\n",
    "   print(n % 2,end = '')    "
   ]
  },
  {
   "cell_type": "code",
   "execution_count": 5,
   "id": "9926da77",
   "metadata": {},
   "outputs": [
    {
     "name": "stdout",
     "output_type": "stream",
     "text": [
      "0"
     ]
    }
   ],
   "source": [
    "binary(0)"
   ]
  },
  {
   "cell_type": "code",
   "execution_count": 6,
   "id": "58ab4d46",
   "metadata": {},
   "outputs": [
    {
     "name": "stdout",
     "output_type": "stream",
     "text": [
      "1"
     ]
    }
   ],
   "source": [
    "binary(1)"
   ]
  },
  {
   "cell_type": "code",
   "execution_count": 7,
   "id": "5df12c2c",
   "metadata": {},
   "outputs": [
    {
     "name": "stdout",
     "output_type": "stream",
     "text": [
      "11"
     ]
    }
   ],
   "source": [
    "binary(3)"
   ]
  },
  {
   "cell_type": "code",
   "execution_count": 8,
   "id": "5f0d09fe",
   "metadata": {
    "collapsed": true
   },
   "outputs": [
    {
     "name": "stdout",
     "output_type": "stream",
     "text": [
      "1001"
     ]
    }
   ],
   "source": [
    "binary(9)"
   ]
  },
  {
   "cell_type": "markdown",
   "id": "14c352b8",
   "metadata": {},
   "source": [
    "## Question 6:"
   ]
  },
  {
   "cell_type": "code",
   "execution_count": 12,
   "id": "14551bad",
   "metadata": {},
   "outputs": [
    {
     "ename": "SyntaxError",
     "evalue": "EOL while scanning string literal (Temp/ipykernel_7904/1628295806.py, line 10)",
     "output_type": "error",
     "traceback": [
      "\u001b[1;36m  File \u001b[1;32m\"C:\\Users\\admin\\AppData\\Local\\Temp/ipykernel_7904/1628295806.py\"\u001b[1;36m, line \u001b[1;32m10\u001b[0m\n\u001b[1;33m    print('{}{}start'.format(self.intent*\",tag))\u001b[0m\n\u001b[1;37m                                                ^\u001b[0m\n\u001b[1;31mSyntaxError\u001b[0m\u001b[1;31m:\u001b[0m EOL while scanning string literal\n"
     ]
    }
   ],
   "source": [
    "class HeadingParser(HTMLParser):\n",
    "    \n",
    "    def __init__(self):\n",
    "        HTMLParser_init_(self)\n",
    "        self.intent = 0\n",
    "        self.h_l=False\n",
    "        self.c_i=[]\n",
    "    def handle_starttag(self,tag,attrs):\n",
    "        if tag==\"h1\" or tag==\"h2\":\n",
    "            print('{}{}start'.format(self.intent*\",tag))\n",
    "            self.intent+=4\n",
    "    def handle_data(self,data):\n",
    "        if self.h_l==True:\n",
    "            self.c_l.append(data)\n",
    "    def handle_endtag(self,tag):\n",
    "        if tag==\"h1\" or tag==\"h2\":\n",
    "            self.h_l=False\n",
    "            print('{}{}end'.format(self.intent*\",tag))\n",
    "    def getheadings(self):\n",
    "            return self.c_l\n",
    "                                   \n",
    "   \n",
    "                                   \n",
    "                                   \n",
    "            "
   ]
  },
  {
   "cell_type": "markdown",
   "id": "ee7406c2",
   "metadata": {},
   "source": [
    "## Question 9(a):"
   ]
  },
  {
   "cell_type": "code",
   "execution_count": 10,
   "id": "8c108c45",
   "metadata": {},
   "outputs": [
    {
     "data": {
      "text/plain": [
       "['THE', 'QUICK', 'BROWN', 'FOX', 'JUMPS', 'OVER', 'THE', 'LAZY', 'DOG']"
      ]
     },
     "execution_count": 10,
     "metadata": {},
     "output_type": "execute_result"
    }
   ],
   "source": [
    "words = ['The' , 'quick' , 'brown' , 'fox' , 'jumps' , 'over' , 'the' , 'lazy' , 'dog']\n",
    "newwords = [i.upper() for i in words]\n",
    "newwords"
   ]
  },
  {
   "cell_type": "markdown",
   "id": "59b36f97",
   "metadata": {},
   "source": [
    "## Question 9(b):"
   ]
  },
  {
   "cell_type": "code",
   "execution_count": 7,
   "id": "d4778b83",
   "metadata": {},
   "outputs": [
    {
     "data": {
      "text/plain": [
       "['the', 'quick', 'brown', 'fox', 'jumps', 'over', 'the', 'lazy', 'dog']"
      ]
     },
     "execution_count": 7,
     "metadata": {},
     "output_type": "execute_result"
    }
   ],
   "source": [
    "words = ['The' , 'quick' , 'brown' , 'fox' , 'jumps' , 'over' , 'the' , 'lazy' , 'dog']\n",
    "newwords = [i.lower() for i in words]\n",
    "newwords"
   ]
  },
  {
   "cell_type": "markdown",
   "id": "a0fa1a08",
   "metadata": {},
   "source": [
    " ## Question 9(c):"
   ]
  },
  {
   "cell_type": "code",
   "execution_count": 1,
   "id": "96834616",
   "metadata": {},
   "outputs": [
    {
     "data": {
      "text/plain": [
       "[3, 5, 5, 3, 5, 4, 3, 4, 3]"
      ]
     },
     "execution_count": 1,
     "metadata": {},
     "output_type": "execute_result"
    }
   ],
   "source": [
    "words = ['The' , 'quick' , 'brown' , 'fox' , 'jumps' , 'over' , 'the' , 'lazy' , 'dog']\n",
    "result = [len(i) for i in words]\n",
    "result"
   ]
  },
  {
   "cell_type": "markdown",
   "id": "b0557a27",
   "metadata": {},
   "source": [
    "## Question 9(d):"
   ]
  },
  {
   "cell_type": "code",
   "execution_count": 1,
   "id": "62d2a964",
   "metadata": {},
   "outputs": [
    {
     "name": "stdout",
     "output_type": "stream",
     "text": [
      "[('THE', 'the', 3), ('QUICK', 'quick', 5), ('BROWN', 'brown', 5), ('FOX', 'fox', 3), ('JUMPS', 'jumps', 5), ('OVER', 'over', 4), ('THE', 'the', 3), ('LAZY', 'lazy', 4), ('DOG', 'dog', 3)]"
     ]
    }
   ],
   "source": [
    "words = ['The' , 'quick' , 'brown' , 'fox' , 'jumps' , 'over' , 'the' , 'lazy' , 'dog']\n",
    "result = [(i.upper(),i.lower(),len(i)) for i in words]\n",
    "print(result,end='')"
   ]
  },
  {
   "cell_type": "markdown",
   "id": "56cd4062",
   "metadata": {},
   "source": [
    "## Question 9(e):"
   ]
  },
  {
   "cell_type": "code",
   "execution_count": 2,
   "id": "2bc33a25",
   "metadata": {},
   "outputs": [
    {
     "data": {
      "text/plain": [
       "['quick', 'brown', 'jumps', 'over', 'lazy']"
      ]
     },
     "execution_count": 2,
     "metadata": {},
     "output_type": "execute_result"
    }
   ],
   "source": [
    "words = ['The' , 'quick' , 'brown' , 'fox' , 'jumps' , 'over' , 'the' , 'lazy' , 'dog']\n",
    "result = [ i for i in words if len(i)>=4]\n",
    "result"
   ]
  },
  {
   "cell_type": "code",
   "execution_count": null,
   "id": "c4721503",
   "metadata": {},
   "outputs": [],
   "source": []
  }
 ],
 "metadata": {
  "kernelspec": {
   "display_name": "Python 3 (ipykernel)",
   "language": "python",
   "name": "python3"
  },
  "language_info": {
   "codemirror_mode": {
    "name": "ipython",
    "version": 3
   },
   "file_extension": ".py",
   "mimetype": "text/x-python",
   "name": "python",
   "nbconvert_exporter": "python",
   "pygments_lexer": "ipython3",
   "version": "3.9.7"
  }
 },
 "nbformat": 4,
 "nbformat_minor": 5
}
